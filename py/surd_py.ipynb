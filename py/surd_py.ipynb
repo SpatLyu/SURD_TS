{
 "cells": [
  {
   "cell_type": "code",
   "execution_count": 1,
   "id": "131ab5e2",
   "metadata": {},
   "outputs": [
    {
     "name": "stdout",
     "output_type": "stream",
     "text": [
      "1\n",
      "2\n",
      "3\n",
      "4\n",
      "5\n",
      "6\n",
      "7\n",
      "8\n",
      "9\n"
     ]
    }
   ],
   "source": [
    "a = range(1, 10)\n",
    "for i in a:\n",
    "    print(i)"
   ]
  },
  {
   "cell_type": "code",
   "execution_count": null,
   "id": "f4aa06ec",
   "metadata": {},
   "outputs": [
    {
     "name": "stdout",
     "output_type": "stream",
     "text": [
      "1\n",
      "2\n",
      "3\n",
      "4\n",
      "5\n",
      "6\n",
      "7\n",
      "8\n",
      "9\n"
     ]
    }
   ],
   "source": [
    "import os, sys\n",
    "\n",
    "import numpy as np\n",
    "import matplotlib.pyplot as plt\n",
    "import matplotlib.colors as mcolors\n",
    "np.random.seed(10)\n",
    "\n",
    "# Configure matplotlib to use LaTeX for text rendering and set font size\n",
    "plt.rcParams['text.usetex'] = True\n",
    "plt.rcParams.update({'font.size': 22})\n",
    "\n",
    "def create_pfm( s, a, dt, bins ):\n",
    "    '''compute the joint PMF of variables\n",
    "        \n",
    "        pfm = create_pfm( s, a, dt )\n",
    "    Parameters\n",
    "        s:      [np.ndarray]\n",
    "            temporal evolution of target variable [size (Nt,)]\n",
    "        a:      [ tuple ]\n",
    "            each element must be an np.ndarray of size (Nt,)\n",
    "            with the temporal evolution of agent variables\n",
    "        dt:     [int]\n",
    "            time lag in number of time steps\n",
    "        bins:     [int]\n",
    "            number of bins (states) per dimension\n",
    "    Returns\n",
    "        pfm     [np.ndarray]\n",
    "            Mass probability function ( size ( bins, ..., bins ), dim = 1 + len(a) )\n",
    "    \n",
    "    '''\n",
    "    V = np.vstack([ s[dt:], [ a[i][:-dt] for i in range(len(a)) ] ]).T\n",
    "    \n",
    "    # Histogram computes the bins by equally splitting the interval max(var)-min(var)\n",
    "    h, _ = np.histogramdd( V, bins=bins )\n",
    "    return h/h.sum()"
   ]
  },
  {
   "cell_type": "code",
   "execution_count": null,
   "id": "8f56be97",
   "metadata": {},
   "outputs": [],
   "source": []
  }
 ],
 "metadata": {
  "kernelspec": {
   "display_name": "geocompy",
   "language": "python",
   "name": "python3"
  },
  "language_info": {
   "codemirror_mode": {
    "name": "ipython",
    "version": 3
   },
   "file_extension": ".py",
   "mimetype": "text/x-python",
   "name": "python",
   "nbconvert_exporter": "python",
   "pygments_lexer": "ipython3",
   "version": "3.11.13"
  }
 },
 "nbformat": 4,
 "nbformat_minor": 5
}
